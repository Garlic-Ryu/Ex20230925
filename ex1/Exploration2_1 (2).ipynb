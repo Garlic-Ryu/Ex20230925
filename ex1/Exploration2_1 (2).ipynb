{
 "cells": [
  {
   "cell_type": "code",
   "execution_count": 1,
   "id": "2893029d",
   "metadata": {},
   "outputs": [],
   "source": [
    "#데이터 가져오기\n",
    "import numpy as np\n",
    "from sklearn.datasets import load_diabetes\n",
    "diabetes = load_diabetes()\n",
    "\n",
    "df_X = diabetes.data\n",
    "df_y = diabetes.target\n",
    "\n",
    "X = np.array(df_X)\n",
    "y = np.array(df_y)\n",
    "\n",
    "# train_test_split\n",
    "from sklearn.model_selection import train_test_split\n",
    "X_train, X_test, y_train, y_test = train_test_split(X, y, test_size=0.2, random_state=42)\n",
    "\n",
    "#모델 준비하기\n",
    "W = np.random.rand(10)\n",
    "b = np.random.rand()\n"
   ]
  },
  {
   "cell_type": "code",
   "execution_count": 2,
   "id": "48605e9b",
   "metadata": {},
   "outputs": [],
   "source": [
    "def model(X,W,b):\n",
    "    predictions = 0\n",
    "    for i in range(10):\n",
    "        predictions += X[:,i]*W[i]\n",
    "    predictions += b\n",
    "    return predictions\n",
    "\n",
    "def MSE(a,b):\n",
    "    mse = ((a-b)**2).mean()\n",
    "    return mse\n",
    "\n",
    "def loss(X,W,b,y):\n",
    "    predictions = model(X,W,b)\n",
    "    L = MSE(predictions, y)\n",
    "    return L\n",
    "\n",
    "# 기울기 \n",
    "def gradient(X, W, b, y):\n",
    "    # N은 데이터 포인트의 개수\n",
    "    N = len(y)\n",
    "    y_pred = model(X, W, b)\n",
    "    dW = 1/N * 2 * X.T.dot(y_pred - y)\n",
    "    db = 2 * (y_pred - y).mean()\n",
    "    return dW, db\n"
   ]
  },
  {
   "cell_type": "code",
   "execution_count": 3,
   "id": "8323f5f7",
   "metadata": {},
   "outputs": [
    {
     "name": "stdout",
     "output_type": "stream",
     "text": [
      "Iteration 10000 : Loss 3444.2939\n",
      "Iteration 20000 : Loss 3094.4532\n",
      "Iteration 30000 : Loss 2979.1908\n",
      "Iteration 40000 : Loss 2933.8089\n",
      "Iteration 50000 : Loss 2914.7248\n",
      "Iteration 60000 : Loss 2906.1807\n",
      "Iteration 70000 : Loss 2902.0814\n",
      "Iteration 80000 : Loss 2899.9553\n",
      "Iteration 90000 : Loss 2898.7516\n",
      "Iteration 100000 : Loss 2898.0005\n"
     ]
    },
    {
     "data": {
      "image/png": "[encoded data removed]",
      "text/plain": [
       "<Figure size 432x288 with 1 Axes>"
      ]
     },
     "metadata": {
      "needs_background": "light"
     },
     "output_type": "display_data"
    }
   ],
   "source": [
    "LEARNING_RATE = 0.01\n",
    "\n",
    "losses = []\n",
    "\n",
    "for i in range(1, 100001):\n",
    "    dW, db = gradient(X_train, W, b, y_train)\n",
    "    W -= LEARNING_RATE * dW\n",
    "    b -= LEARNING_RATE * db\n",
    "    L = loss(X_train, W, b, y_train)\n",
    "    losses.append(L)\n",
    "    if i % 10000 == 0:\n",
    "        print('Iteration %d : Loss %0.4f' % (i, L))\n",
    "        \n",
    "import matplotlib.pyplot as plt\n",
    "plt.plot(losses)\n",
    "plt.show()"
   ]
  },
  {
   "cell_type": "code",
   "execution_count": 4,
   "id": "4f60c58d",
   "metadata": {},
   "outputs": [
    {
     "data": {
      "text/plain": [
       "2880.2540037430995"
      ]
     },
     "execution_count": 4,
     "metadata": {},
     "output_type": "execute_result"
    }
   ],
   "source": [
    "prediction = model(X_test, W, b)\n",
    "mse = loss(X_test, W, b, y_test)\n",
    "mse"
   ]
  },
  {
   "cell_type": "code",
   "execution_count": 5,
   "id": "7a3f7b95",
   "metadata": {},
   "outputs": [
    {
     "data": {
      "image/png": "[encoded data removed]",
      "text/plain": [
       "<Figure size 432x288 with 1 Axes>"
      ]
     },
     "metadata": {
      "needs_background": "light"
     },
     "output_type": "display_data"
    }
   ],
   "source": [
    "#(11) 정답 데이터와 예측한 데이터 시각화하기\n",
    "plt.scatter(X_test[:, 0], y_test)\n",
    "plt.scatter(X_test[:, 0], prediction)\n",
    "plt.show()"
   ]
  },
  {
   "cell_type": "code",
   "execution_count": null,
   "id": "bffb4a4d",
   "metadata": {},
   "outputs": [],
   "source": []
  },
  {
   "cell_type": "code",
   "execution_count": null,
   "id": "f561fd13",
   "metadata": {},
   "outputs": [],
   "source": []
  }
 ],
 "metadata": {
  "kernelspec": {
   "display_name": "Python 3 (ipykernel)",
   "language": "python",
   "name": "python3"
  },
  "language_info": {
   "codemirror_mode": {
    "name": "ipython",
    "version": 3
   },
   "file_extension": ".py",
   "mimetype": "text/x-python",
   "name": "python",
   "nbconvert_exporter": "python",
   "pygments_lexer": "ipython3",
   "version": "3.9.7"
  }
 },
 "nbformat": 4,
 "nbformat_minor": 5
}
